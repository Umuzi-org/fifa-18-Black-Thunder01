{
 "cells": [
  {
   "cell_type": "markdown",
   "metadata": {},
   "source": [
    "# FIFA 2018 Player Info."
   ]
  },
  {
   "cell_type": "code",
   "execution_count": 1,
   "metadata": {},
   "outputs": [],
   "source": [
    "import pandas as pd\n",
    "import matplotlib.pyplot as plt\n",
    "import seaborn as sb\n",
    "import numpy as np\n",
    "import scipy.stats as stats"
   ]
  },
  {
   "cell_type": "code",
   "execution_count": 2,
   "metadata": {},
   "outputs": [
    {
     "data": {
      "text/html": [
       "<div>\n",
       "<style scoped>\n",
       "    .dataframe tbody tr th:only-of-type {\n",
       "        vertical-align: middle;\n",
       "    }\n",
       "\n",
       "    .dataframe tbody tr th {\n",
       "        vertical-align: top;\n",
       "    }\n",
       "\n",
       "    .dataframe thead th {\n",
       "        text-align: right;\n",
       "    }\n",
       "</style>\n",
       "<table border=\"1\" class=\"dataframe\">\n",
       "  <thead>\n",
       "    <tr style=\"text-align: right;\">\n",
       "      <th></th>\n",
       "      <th>Unnamed: 0</th>\n",
       "      <th>Name</th>\n",
       "      <th>Age</th>\n",
       "      <th>Photo</th>\n",
       "      <th>Nationality</th>\n",
       "      <th>Flag</th>\n",
       "      <th>Overall</th>\n",
       "      <th>Potential</th>\n",
       "      <th>Club</th>\n",
       "      <th>Club Logo</th>\n",
       "      <th>...</th>\n",
       "      <th>RB</th>\n",
       "      <th>RCB</th>\n",
       "      <th>RCM</th>\n",
       "      <th>RDM</th>\n",
       "      <th>RF</th>\n",
       "      <th>RM</th>\n",
       "      <th>RS</th>\n",
       "      <th>RW</th>\n",
       "      <th>RWB</th>\n",
       "      <th>ST</th>\n",
       "    </tr>\n",
       "  </thead>\n",
       "  <tbody>\n",
       "    <tr>\n",
       "      <th>0</th>\n",
       "      <td>0</td>\n",
       "      <td>Cristiano Ronaldo</td>\n",
       "      <td>32</td>\n",
       "      <td>https://cdn.sofifa.org/48/18/players/20801.png</td>\n",
       "      <td>Portugal</td>\n",
       "      <td>https://cdn.sofifa.org/flags/38.png</td>\n",
       "      <td>94</td>\n",
       "      <td>94</td>\n",
       "      <td>Real Madrid CF</td>\n",
       "      <td>https://cdn.sofifa.org/24/18/teams/243.png</td>\n",
       "      <td>...</td>\n",
       "      <td>61.0</td>\n",
       "      <td>53.0</td>\n",
       "      <td>82.0</td>\n",
       "      <td>62.0</td>\n",
       "      <td>91.0</td>\n",
       "      <td>89.0</td>\n",
       "      <td>92.0</td>\n",
       "      <td>91.0</td>\n",
       "      <td>66.0</td>\n",
       "      <td>92.0</td>\n",
       "    </tr>\n",
       "    <tr>\n",
       "      <th>1</th>\n",
       "      <td>1</td>\n",
       "      <td>L. Messi</td>\n",
       "      <td>30</td>\n",
       "      <td>https://cdn.sofifa.org/48/18/players/158023.png</td>\n",
       "      <td>Argentina</td>\n",
       "      <td>https://cdn.sofifa.org/flags/52.png</td>\n",
       "      <td>93</td>\n",
       "      <td>93</td>\n",
       "      <td>FC Barcelona</td>\n",
       "      <td>https://cdn.sofifa.org/24/18/teams/241.png</td>\n",
       "      <td>...</td>\n",
       "      <td>57.0</td>\n",
       "      <td>45.0</td>\n",
       "      <td>84.0</td>\n",
       "      <td>59.0</td>\n",
       "      <td>92.0</td>\n",
       "      <td>90.0</td>\n",
       "      <td>88.0</td>\n",
       "      <td>91.0</td>\n",
       "      <td>62.0</td>\n",
       "      <td>88.0</td>\n",
       "    </tr>\n",
       "    <tr>\n",
       "      <th>2</th>\n",
       "      <td>2</td>\n",
       "      <td>Neymar</td>\n",
       "      <td>25</td>\n",
       "      <td>https://cdn.sofifa.org/48/18/players/190871.png</td>\n",
       "      <td>Brazil</td>\n",
       "      <td>https://cdn.sofifa.org/flags/54.png</td>\n",
       "      <td>92</td>\n",
       "      <td>94</td>\n",
       "      <td>Paris Saint-Germain</td>\n",
       "      <td>https://cdn.sofifa.org/24/18/teams/73.png</td>\n",
       "      <td>...</td>\n",
       "      <td>59.0</td>\n",
       "      <td>46.0</td>\n",
       "      <td>79.0</td>\n",
       "      <td>59.0</td>\n",
       "      <td>88.0</td>\n",
       "      <td>87.0</td>\n",
       "      <td>84.0</td>\n",
       "      <td>89.0</td>\n",
       "      <td>64.0</td>\n",
       "      <td>84.0</td>\n",
       "    </tr>\n",
       "    <tr>\n",
       "      <th>3</th>\n",
       "      <td>3</td>\n",
       "      <td>L. Suárez</td>\n",
       "      <td>30</td>\n",
       "      <td>https://cdn.sofifa.org/48/18/players/176580.png</td>\n",
       "      <td>Uruguay</td>\n",
       "      <td>https://cdn.sofifa.org/flags/60.png</td>\n",
       "      <td>92</td>\n",
       "      <td>92</td>\n",
       "      <td>FC Barcelona</td>\n",
       "      <td>https://cdn.sofifa.org/24/18/teams/241.png</td>\n",
       "      <td>...</td>\n",
       "      <td>64.0</td>\n",
       "      <td>58.0</td>\n",
       "      <td>80.0</td>\n",
       "      <td>65.0</td>\n",
       "      <td>88.0</td>\n",
       "      <td>85.0</td>\n",
       "      <td>88.0</td>\n",
       "      <td>87.0</td>\n",
       "      <td>68.0</td>\n",
       "      <td>88.0</td>\n",
       "    </tr>\n",
       "    <tr>\n",
       "      <th>4</th>\n",
       "      <td>4</td>\n",
       "      <td>M. Neuer</td>\n",
       "      <td>31</td>\n",
       "      <td>https://cdn.sofifa.org/48/18/players/167495.png</td>\n",
       "      <td>Germany</td>\n",
       "      <td>https://cdn.sofifa.org/flags/21.png</td>\n",
       "      <td>92</td>\n",
       "      <td>92</td>\n",
       "      <td>FC Bayern Munich</td>\n",
       "      <td>https://cdn.sofifa.org/24/18/teams/21.png</td>\n",
       "      <td>...</td>\n",
       "      <td>NaN</td>\n",
       "      <td>NaN</td>\n",
       "      <td>NaN</td>\n",
       "      <td>NaN</td>\n",
       "      <td>NaN</td>\n",
       "      <td>NaN</td>\n",
       "      <td>NaN</td>\n",
       "      <td>NaN</td>\n",
       "      <td>NaN</td>\n",
       "      <td>NaN</td>\n",
       "    </tr>\n",
       "  </tbody>\n",
       "</table>\n",
       "<p>5 rows × 75 columns</p>\n",
       "</div>"
      ],
      "text/plain": [
       "  Unnamed: 0               Name Age  \\\n",
       "0          0  Cristiano Ronaldo  32   \n",
       "1          1           L. Messi  30   \n",
       "2          2             Neymar  25   \n",
       "3          3          L. Suárez  30   \n",
       "4          4           M. Neuer  31   \n",
       "\n",
       "                                             Photo Nationality  \\\n",
       "0   https://cdn.sofifa.org/48/18/players/20801.png    Portugal   \n",
       "1  https://cdn.sofifa.org/48/18/players/158023.png   Argentina   \n",
       "2  https://cdn.sofifa.org/48/18/players/190871.png      Brazil   \n",
       "3  https://cdn.sofifa.org/48/18/players/176580.png     Uruguay   \n",
       "4  https://cdn.sofifa.org/48/18/players/167495.png     Germany   \n",
       "\n",
       "                                  Flag Overall Potential                 Club  \\\n",
       "0  https://cdn.sofifa.org/flags/38.png      94        94       Real Madrid CF   \n",
       "1  https://cdn.sofifa.org/flags/52.png      93        93         FC Barcelona   \n",
       "2  https://cdn.sofifa.org/flags/54.png      92        94  Paris Saint-Germain   \n",
       "3  https://cdn.sofifa.org/flags/60.png      92        92         FC Barcelona   \n",
       "4  https://cdn.sofifa.org/flags/21.png      92        92     FC Bayern Munich   \n",
       "\n",
       "                                    Club Logo  ...     RB   RCB   RCM   RDM  \\\n",
       "0  https://cdn.sofifa.org/24/18/teams/243.png  ...   61.0  53.0  82.0  62.0   \n",
       "1  https://cdn.sofifa.org/24/18/teams/241.png  ...   57.0  45.0  84.0  59.0   \n",
       "2   https://cdn.sofifa.org/24/18/teams/73.png  ...   59.0  46.0  79.0  59.0   \n",
       "3  https://cdn.sofifa.org/24/18/teams/241.png  ...   64.0  58.0  80.0  65.0   \n",
       "4   https://cdn.sofifa.org/24/18/teams/21.png  ...    NaN   NaN   NaN   NaN   \n",
       "\n",
       "     RF    RM    RS    RW   RWB    ST  \n",
       "0  91.0  89.0  92.0  91.0  66.0  92.0  \n",
       "1  92.0  90.0  88.0  91.0  62.0  88.0  \n",
       "2  88.0  87.0  84.0  89.0  64.0  84.0  \n",
       "3  88.0  85.0  88.0  87.0  68.0  88.0  \n",
       "4   NaN   NaN   NaN   NaN   NaN   NaN  \n",
       "\n",
       "[5 rows x 75 columns]"
      ]
     },
     "execution_count": 2,
     "metadata": {},
     "output_type": "execute_result"
    }
   ],
   "source": [
    "df = pd.read_csv('CompleteDataset.csv',dtype='unicode') # I did not allow pandas to identify the Data Type for\n",
    "############################################################# each insert because it takes up a lot of memory. \n",
    "df.head()"
   ]
  },
  {
   "cell_type": "code",
   "execution_count": 3,
   "metadata": {},
   "outputs": [
    {
     "name": "stdout",
     "output_type": "stream",
     "text": [
      "<class 'pandas.core.frame.DataFrame'>\n",
      "RangeIndex: 17981 entries, 0 to 17980\n",
      "Data columns (total 75 columns):\n",
      "Unnamed: 0             17981 non-null object\n",
      "Name                   17981 non-null object\n",
      "Age                    17981 non-null object\n",
      "Photo                  17981 non-null object\n",
      "Nationality            17981 non-null object\n",
      "Flag                   17981 non-null object\n",
      "Overall                17981 non-null object\n",
      "Potential              17981 non-null object\n",
      "Club                   17733 non-null object\n",
      "Club Logo              17981 non-null object\n",
      "Value                  17981 non-null object\n",
      "Wage                   17981 non-null object\n",
      "Special                17981 non-null object\n",
      "Acceleration           17981 non-null object\n",
      "Aggression             17981 non-null object\n",
      "Agility                17981 non-null object\n",
      "Balance                17981 non-null object\n",
      "Ball control           17981 non-null object\n",
      "Composure              17981 non-null object\n",
      "Crossing               17981 non-null object\n",
      "Curve                  17981 non-null object\n",
      "Dribbling              17981 non-null object\n",
      "Finishing              17981 non-null object\n",
      "Free kick accuracy     17981 non-null object\n",
      "GK diving              17981 non-null object\n",
      "GK handling            17981 non-null object\n",
      "GK kicking             17981 non-null object\n",
      "GK positioning         17981 non-null object\n",
      "GK reflexes            17981 non-null object\n",
      "Heading accuracy       17981 non-null object\n",
      "Interceptions          17981 non-null object\n",
      "Jumping                17981 non-null object\n",
      "Long passing           17981 non-null object\n",
      "Long shots             17981 non-null object\n",
      "Marking                17981 non-null object\n",
      "Penalties              17981 non-null object\n",
      "Positioning            17981 non-null object\n",
      "Reactions              17981 non-null object\n",
      "Short passing          17981 non-null object\n",
      "Shot power             17981 non-null object\n",
      "Sliding tackle         17981 non-null object\n",
      "Sprint speed           17981 non-null object\n",
      "Stamina                17981 non-null object\n",
      "Standing tackle        17981 non-null object\n",
      "Strength               17981 non-null object\n",
      "Vision                 17981 non-null object\n",
      "Volleys                17981 non-null object\n",
      "CAM                    15952 non-null object\n",
      "CB                     15952 non-null object\n",
      "CDM                    15952 non-null object\n",
      "CF                     15952 non-null object\n",
      "CM                     15952 non-null object\n",
      "ID                     17981 non-null object\n",
      "LAM                    15952 non-null object\n",
      "LB                     15952 non-null object\n",
      "LCB                    15952 non-null object\n",
      "LCM                    15952 non-null object\n",
      "LDM                    15952 non-null object\n",
      "LF                     15952 non-null object\n",
      "LM                     15952 non-null object\n",
      "LS                     15952 non-null object\n",
      "LW                     15952 non-null object\n",
      "LWB                    15952 non-null object\n",
      "Preferred Positions    17981 non-null object\n",
      "RAM                    15952 non-null object\n",
      "RB                     15952 non-null object\n",
      "RCB                    15952 non-null object\n",
      "RCM                    15952 non-null object\n",
      "RDM                    15952 non-null object\n",
      "RF                     15952 non-null object\n",
      "RM                     15952 non-null object\n",
      "RS                     15952 non-null object\n",
      "RW                     15952 non-null object\n",
      "RWB                    15952 non-null object\n",
      "ST                     15952 non-null object\n",
      "dtypes: object(75)\n",
      "memory usage: 10.3+ MB\n"
     ]
    }
   ],
   "source": [
    "df.info()"
   ]
  },
  {
   "cell_type": "code",
   "execution_count": 4,
   "metadata": {},
   "outputs": [
    {
     "name": "stdout",
     "output_type": "stream",
     "text": [
      "Index(['Name', 'Age', 'Nationality', 'Overall', 'Potential', 'Value', 'Wage',\n",
      "       'Special', 'Acceleration', 'Aggression', 'Agility', 'Balance',\n",
      "       'Ball control', 'Composure', 'Crossing', 'Curve', 'Dribbling',\n",
      "       'Finishing', 'Free kick accuracy', 'GK diving', 'GK handling',\n",
      "       'GK kicking', 'GK positioning', 'GK reflexes', 'Heading accuracy',\n",
      "       'Interceptions', 'Jumping', 'Long passing', 'Long shots', 'Marking',\n",
      "       'Penalties', 'Positioning', 'Reactions', 'Short passing', 'Shot power',\n",
      "       'Sliding tackle', 'Sprint speed', 'Stamina', 'Standing tackle',\n",
      "       'Strength', 'Vision', 'Volleys', 'CAM', 'CB', 'CDM', 'CF', 'CM', 'ID',\n",
      "       'LAM', 'LB', 'LCB', 'LCM', 'LDM', 'LF', 'LM', 'LS', 'LW', 'LWB',\n",
      "       'Preferred Positions', 'RAM', 'RB', 'RCB', 'RCM', 'RDM', 'RF', 'RM',\n",
      "       'RS', 'RW', 'RWB', 'ST'],\n",
      "      dtype='object')\n"
     ]
    }
   ],
   "source": [
    "# The DataFrame is using up a lot of memory with useless data such as Player Photo and Club flags\n",
    "# I will drop these columns in order to have a clear understanding of the Data.\n",
    "cols = ['Photo','Club Logo','Flag','Unnamed: 0','Club']\n",
    "df1 = df.drop(columns=cols) #  This is the DF without the useless columns.\n",
    "print(df1.columns)"
   ]
  },
  {
   "cell_type": "code",
   "execution_count": 5,
   "metadata": {},
   "outputs": [
    {
     "name": "stdout",
     "output_type": "stream",
     "text": [
      "<class 'pandas.core.frame.DataFrame'>\n",
      "RangeIndex: 17981 entries, 0 to 17980\n",
      "Data columns (total 70 columns):\n",
      "Name                   17981 non-null object\n",
      "Age                    17981 non-null object\n",
      "Nationality            17981 non-null object\n",
      "Overall                17981 non-null object\n",
      "Potential              17981 non-null object\n",
      "Value                  17981 non-null object\n",
      "Wage                   17981 non-null object\n",
      "Special                17981 non-null object\n",
      "Acceleration           17981 non-null object\n",
      "Aggression             17981 non-null object\n",
      "Agility                17981 non-null object\n",
      "Balance                17981 non-null object\n",
      "Ball control           17981 non-null object\n",
      "Composure              17981 non-null object\n",
      "Crossing               17981 non-null object\n",
      "Curve                  17981 non-null object\n",
      "Dribbling              17981 non-null object\n",
      "Finishing              17981 non-null object\n",
      "Free kick accuracy     17981 non-null object\n",
      "GK diving              17981 non-null object\n",
      "GK handling            17981 non-null object\n",
      "GK kicking             17981 non-null object\n",
      "GK positioning         17981 non-null object\n",
      "GK reflexes            17981 non-null object\n",
      "Heading accuracy       17981 non-null object\n",
      "Interceptions          17981 non-null object\n",
      "Jumping                17981 non-null object\n",
      "Long passing           17981 non-null object\n",
      "Long shots             17981 non-null object\n",
      "Marking                17981 non-null object\n",
      "Penalties              17981 non-null object\n",
      "Positioning            17981 non-null object\n",
      "Reactions              17981 non-null object\n",
      "Short passing          17981 non-null object\n",
      "Shot power             17981 non-null object\n",
      "Sliding tackle         17981 non-null object\n",
      "Sprint speed           17981 non-null object\n",
      "Stamina                17981 non-null object\n",
      "Standing tackle        17981 non-null object\n",
      "Strength               17981 non-null object\n",
      "Vision                 17981 non-null object\n",
      "Volleys                17981 non-null object\n",
      "CAM                    15952 non-null object\n",
      "CB                     15952 non-null object\n",
      "CDM                    15952 non-null object\n",
      "CF                     15952 non-null object\n",
      "CM                     15952 non-null object\n",
      "ID                     17981 non-null object\n",
      "LAM                    15952 non-null object\n",
      "LB                     15952 non-null object\n",
      "LCB                    15952 non-null object\n",
      "LCM                    15952 non-null object\n",
      "LDM                    15952 non-null object\n",
      "LF                     15952 non-null object\n",
      "LM                     15952 non-null object\n",
      "LS                     15952 non-null object\n",
      "LW                     15952 non-null object\n",
      "LWB                    15952 non-null object\n",
      "Preferred Positions    17981 non-null object\n",
      "RAM                    15952 non-null object\n",
      "RB                     15952 non-null object\n",
      "RCB                    15952 non-null object\n",
      "RCM                    15952 non-null object\n",
      "RDM                    15952 non-null object\n",
      "RF                     15952 non-null object\n",
      "RM                     15952 non-null object\n",
      "RS                     15952 non-null object\n",
      "RW                     15952 non-null object\n",
      "RWB                    15952 non-null object\n",
      "ST                     15952 non-null object\n",
      "dtypes: object(70)\n",
      "memory usage: 9.6+ MB\n"
     ]
    }
   ],
   "source": [
    "df1.info(null_counts=True)"
   ]
  },
  {
   "cell_type": "markdown",
   "metadata": {},
   "source": [
    "* **Our info shows that from the Central Attacking Mid-Fielders(CAM) until Special-Teams(ST) except Preferred Positions there are 15952 entries instead of the expected 17981 entries. Let's find out why.**"
   ]
  },
  {
   "cell_type": "code",
   "execution_count": 6,
   "metadata": {},
   "outputs": [
    {
     "data": {
      "text/plain": [
       "Name                      0\n",
       "Age                       0\n",
       "Nationality               0\n",
       "Overall                   0\n",
       "Potential                 0\n",
       "Value                     0\n",
       "Wage                      0\n",
       "Special                   0\n",
       "Acceleration              0\n",
       "Aggression                0\n",
       "Agility                   0\n",
       "Balance                   0\n",
       "Ball control              0\n",
       "Composure                 0\n",
       "Crossing                  0\n",
       "Curve                     0\n",
       "Dribbling                 0\n",
       "Finishing                 0\n",
       "Free kick accuracy        0\n",
       "GK diving                 0\n",
       "GK handling               0\n",
       "GK kicking                0\n",
       "GK positioning            0\n",
       "GK reflexes               0\n",
       "Heading accuracy          0\n",
       "Interceptions             0\n",
       "Jumping                   0\n",
       "Long passing              0\n",
       "Long shots                0\n",
       "Marking                   0\n",
       "                       ... \n",
       "Vision                    0\n",
       "Volleys                   0\n",
       "CAM                    2029\n",
       "CB                     2029\n",
       "CDM                    2029\n",
       "CF                     2029\n",
       "CM                     2029\n",
       "ID                        0\n",
       "LAM                    2029\n",
       "LB                     2029\n",
       "LCB                    2029\n",
       "LCM                    2029\n",
       "LDM                    2029\n",
       "LF                     2029\n",
       "LM                     2029\n",
       "LS                     2029\n",
       "LW                     2029\n",
       "LWB                    2029\n",
       "Preferred Positions       0\n",
       "RAM                    2029\n",
       "RB                     2029\n",
       "RCB                    2029\n",
       "RCM                    2029\n",
       "RDM                    2029\n",
       "RF                     2029\n",
       "RM                     2029\n",
       "RS                     2029\n",
       "RW                     2029\n",
       "RWB                    2029\n",
       "ST                     2029\n",
       "Length: 70, dtype: int64"
      ]
     },
     "execution_count": 6,
     "metadata": {},
     "output_type": "execute_result"
    }
   ],
   "source": [
    "df1.isnull().sum() # This checks the number of Null/NaN values in the DF Columns."
   ]
  },
  {
   "cell_type": "markdown",
   "metadata": {},
   "source": [
    "* **Just as I thought, Most of the position Data is NaN/Null, but at the moment we do not need the positions, so we are going to drop these columns.** "
   ]
  },
  {
   "cell_type": "code",
   "execution_count": 7,
   "metadata": {},
   "outputs": [],
   "source": [
    "positions = ['CAM','CB','CDM','CF','CM','ID','LAM','LB','LCB','LCM','LDM','LF','LM','LS','LW','LWB'\n",
    "             ,'RAM','RB','RCB','RCM','RDM','RF','RM','RS','RW','RWB','ST']\n",
    "df_pos = df1.drop(columns=positions) # Drop all the position columns."
   ]
  },
  {
   "cell_type": "markdown",
   "metadata": {},
   "source": [
    "* **Time to Review, the cleanliness of the Data**"
   ]
  },
  {
   "cell_type": "code",
   "execution_count": 8,
   "metadata": {},
   "outputs": [
    {
     "name": "stdout",
     "output_type": "stream",
     "text": [
      "<class 'pandas.core.frame.DataFrame'>\n",
      "RangeIndex: 17981 entries, 0 to 17980\n",
      "Data columns (total 43 columns):\n",
      "Name                   17981 non-null object\n",
      "Age                    17981 non-null object\n",
      "Nationality            17981 non-null object\n",
      "Overall                17981 non-null object\n",
      "Potential              17981 non-null object\n",
      "Value                  17981 non-null object\n",
      "Wage                   17981 non-null object\n",
      "Special                17981 non-null object\n",
      "Acceleration           17981 non-null object\n",
      "Aggression             17981 non-null object\n",
      "Agility                17981 non-null object\n",
      "Balance                17981 non-null object\n",
      "Ball control           17981 non-null object\n",
      "Composure              17981 non-null object\n",
      "Crossing               17981 non-null object\n",
      "Curve                  17981 non-null object\n",
      "Dribbling              17981 non-null object\n",
      "Finishing              17981 non-null object\n",
      "Free kick accuracy     17981 non-null object\n",
      "GK diving              17981 non-null object\n",
      "GK handling            17981 non-null object\n",
      "GK kicking             17981 non-null object\n",
      "GK positioning         17981 non-null object\n",
      "GK reflexes            17981 non-null object\n",
      "Heading accuracy       17981 non-null object\n",
      "Interceptions          17981 non-null object\n",
      "Jumping                17981 non-null object\n",
      "Long passing           17981 non-null object\n",
      "Long shots             17981 non-null object\n",
      "Marking                17981 non-null object\n",
      "Penalties              17981 non-null object\n",
      "Positioning            17981 non-null object\n",
      "Reactions              17981 non-null object\n",
      "Short passing          17981 non-null object\n",
      "Shot power             17981 non-null object\n",
      "Sliding tackle         17981 non-null object\n",
      "Sprint speed           17981 non-null object\n",
      "Stamina                17981 non-null object\n",
      "Standing tackle        17981 non-null object\n",
      "Strength               17981 non-null object\n",
      "Vision                 17981 non-null object\n",
      "Volleys                17981 non-null object\n",
      "Preferred Positions    17981 non-null object\n",
      "dtypes: object(43)\n",
      "memory usage: 5.9+ MB\n"
     ]
    }
   ],
   "source": [
    "df_pos.info()"
   ]
  },
  {
   "cell_type": "code",
   "execution_count": 9,
   "metadata": {
    "scrolled": false
   },
   "outputs": [
    {
     "data": {
      "text/plain": [
       "Name                   0\n",
       "Age                    0\n",
       "Nationality            0\n",
       "Overall                0\n",
       "Potential              0\n",
       "Value                  0\n",
       "Wage                   0\n",
       "Special                0\n",
       "Acceleration           0\n",
       "Aggression             0\n",
       "Agility                0\n",
       "Balance                0\n",
       "Ball control           0\n",
       "Composure              0\n",
       "Crossing               0\n",
       "Curve                  0\n",
       "Dribbling              0\n",
       "Finishing              0\n",
       "Free kick accuracy     0\n",
       "GK diving              0\n",
       "GK handling            0\n",
       "GK kicking             0\n",
       "GK positioning         0\n",
       "GK reflexes            0\n",
       "Heading accuracy       0\n",
       "Interceptions          0\n",
       "Jumping                0\n",
       "Long passing           0\n",
       "Long shots             0\n",
       "Marking                0\n",
       "Penalties              0\n",
       "Positioning            0\n",
       "Reactions              0\n",
       "Short passing          0\n",
       "Shot power             0\n",
       "Sliding tackle         0\n",
       "Sprint speed           0\n",
       "Stamina                0\n",
       "Standing tackle        0\n",
       "Strength               0\n",
       "Vision                 0\n",
       "Volleys                0\n",
       "Preferred Positions    0\n",
       "dtype: int64"
      ]
     },
     "execution_count": 9,
     "metadata": {},
     "output_type": "execute_result"
    }
   ],
   "source": [
    "df_pos.isnull().sum()"
   ]
  },
  {
   "cell_type": "markdown",
   "metadata": {},
   "source": [
    "* **Our data is clean, there are no null values in our columns, we still have 17981 entries in our DataFrame.**\n",
    "* **I'll assign data type of a column later.**"
   ]
  },
  {
   "cell_type": "markdown",
   "metadata": {},
   "source": [
    "## Data Exploratory.\n",
    "-----------\n",
    "* I'll find if there's a correlation between observations."
   ]
  },
  {
   "cell_type": "code",
   "execution_count": 10,
   "metadata": {},
   "outputs": [
    {
     "data": {
      "text/html": [
       "<div>\n",
       "<style scoped>\n",
       "    .dataframe tbody tr th:only-of-type {\n",
       "        vertical-align: middle;\n",
       "    }\n",
       "\n",
       "    .dataframe tbody tr th {\n",
       "        vertical-align: top;\n",
       "    }\n",
       "\n",
       "    .dataframe thead th {\n",
       "        text-align: right;\n",
       "    }\n",
       "</style>\n",
       "<table border=\"1\" class=\"dataframe\">\n",
       "  <thead>\n",
       "    <tr style=\"text-align: right;\">\n",
       "      <th></th>\n",
       "      <th>Name</th>\n",
       "      <th>Age</th>\n",
       "      <th>Nationality</th>\n",
       "      <th>Overall</th>\n",
       "      <th>Potential</th>\n",
       "      <th>Value</th>\n",
       "      <th>Wage</th>\n",
       "      <th>Special</th>\n",
       "      <th>Acceleration</th>\n",
       "      <th>Aggression</th>\n",
       "      <th>...</th>\n",
       "      <th>Short passing</th>\n",
       "      <th>Shot power</th>\n",
       "      <th>Sliding tackle</th>\n",
       "      <th>Sprint speed</th>\n",
       "      <th>Stamina</th>\n",
       "      <th>Standing tackle</th>\n",
       "      <th>Strength</th>\n",
       "      <th>Vision</th>\n",
       "      <th>Volleys</th>\n",
       "      <th>Preferred Positions</th>\n",
       "    </tr>\n",
       "  </thead>\n",
       "  <tbody>\n",
       "    <tr>\n",
       "      <th>0</th>\n",
       "      <td>Cristiano Ronaldo</td>\n",
       "      <td>32</td>\n",
       "      <td>Portugal</td>\n",
       "      <td>94</td>\n",
       "      <td>94</td>\n",
       "      <td>€95.5M</td>\n",
       "      <td>€565K</td>\n",
       "      <td>2228</td>\n",
       "      <td>89</td>\n",
       "      <td>63</td>\n",
       "      <td>...</td>\n",
       "      <td>83</td>\n",
       "      <td>94</td>\n",
       "      <td>23</td>\n",
       "      <td>91</td>\n",
       "      <td>92</td>\n",
       "      <td>31</td>\n",
       "      <td>80</td>\n",
       "      <td>85</td>\n",
       "      <td>88</td>\n",
       "      <td>ST LW</td>\n",
       "    </tr>\n",
       "    <tr>\n",
       "      <th>1</th>\n",
       "      <td>L. Messi</td>\n",
       "      <td>30</td>\n",
       "      <td>Argentina</td>\n",
       "      <td>93</td>\n",
       "      <td>93</td>\n",
       "      <td>€105M</td>\n",
       "      <td>€565K</td>\n",
       "      <td>2154</td>\n",
       "      <td>92</td>\n",
       "      <td>48</td>\n",
       "      <td>...</td>\n",
       "      <td>88</td>\n",
       "      <td>85</td>\n",
       "      <td>26</td>\n",
       "      <td>87</td>\n",
       "      <td>73</td>\n",
       "      <td>28</td>\n",
       "      <td>59</td>\n",
       "      <td>90</td>\n",
       "      <td>85</td>\n",
       "      <td>RW</td>\n",
       "    </tr>\n",
       "    <tr>\n",
       "      <th>2</th>\n",
       "      <td>Neymar</td>\n",
       "      <td>25</td>\n",
       "      <td>Brazil</td>\n",
       "      <td>92</td>\n",
       "      <td>94</td>\n",
       "      <td>€123M</td>\n",
       "      <td>€280K</td>\n",
       "      <td>2100</td>\n",
       "      <td>94</td>\n",
       "      <td>56</td>\n",
       "      <td>...</td>\n",
       "      <td>81</td>\n",
       "      <td>80</td>\n",
       "      <td>33</td>\n",
       "      <td>90</td>\n",
       "      <td>78</td>\n",
       "      <td>24</td>\n",
       "      <td>53</td>\n",
       "      <td>80</td>\n",
       "      <td>83</td>\n",
       "      <td>LW</td>\n",
       "    </tr>\n",
       "  </tbody>\n",
       "</table>\n",
       "<p>3 rows × 43 columns</p>\n",
       "</div>"
      ],
      "text/plain": [
       "                Name Age Nationality Overall Potential   Value   Wage Special  \\\n",
       "0  Cristiano Ronaldo  32    Portugal      94        94  €95.5M  €565K    2228   \n",
       "1           L. Messi  30   Argentina      93        93   €105M  €565K    2154   \n",
       "2             Neymar  25      Brazil      92        94   €123M  €280K    2100   \n",
       "\n",
       "  Acceleration Aggression         ...         Short passing Shot power  \\\n",
       "0           89         63         ...                    83         94   \n",
       "1           92         48         ...                    88         85   \n",
       "2           94         56         ...                    81         80   \n",
       "\n",
       "  Sliding tackle Sprint speed Stamina Standing tackle Strength Vision Volleys  \\\n",
       "0             23           91      92              31       80     85      88   \n",
       "1             26           87      73              28       59     90      85   \n",
       "2             33           90      78              24       53     80      83   \n",
       "\n",
       "  Preferred Positions  \n",
       "0              ST LW   \n",
       "1                 RW   \n",
       "2                 LW   \n",
       "\n",
       "[3 rows x 43 columns]"
      ]
     },
     "execution_count": 10,
     "metadata": {},
     "output_type": "execute_result"
    }
   ],
   "source": [
    "df = df_pos\n",
    "df.head(3)"
   ]
  },
  {
   "cell_type": "markdown",
   "metadata": {},
   "source": [
    "### Age of the Players."
   ]
  },
  {
   "cell_type": "code",
   "execution_count": 11,
   "metadata": {},
   "outputs": [
    {
     "name": "stdout",
     "output_type": "stream",
     "text": [
      "Age minimum: 16\n",
      "Age maximum: 47\n"
     ]
    }
   ],
   "source": [
    "df[\"Age\"] = pd.to_numeric(df['Age'])\n",
    "Age = np.array(df.Age)\n",
    "print('Age minimum:',min(Age))\n",
    "print('Age maximum:',max(Age))"
   ]
  },
  {
   "cell_type": "code",
   "execution_count": 12,
   "metadata": {},
   "outputs": [
    {
     "data": {
      "image/png": "[encoded data removed]",
      "text/plain": [
       "<Figure size 432x288 with 1 Axes>"
      ]
     },
     "metadata": {},
     "output_type": "display_data"
    }
   ],
   "source": [
    "# Plot the Age Data.\n",
    "fig = plt.hist(Age,bins=20, range=(13, 50), edgecolor=\"m\",color='c')\n",
    "plt.title('Age Distribution of Players in the FIFA 18.',fontsize=14,fontweight='bold')\n",
    "plt.xlabel('Age of players.', fontsize=13)\n",
    "plt.ylabel('Number of Players.', fontsize=13)\n",
    "plt.show()"
   ]
  },
  {
   "cell_type": "markdown",
   "metadata": {},
   "source": [
    "* **Seems that there were more plyers that were between 20 and 25 years in the FIFA World Cup.**\n",
    "--------------\n",
    "**Player potential and Player Age. **"
   ]
  },
  {
   "cell_type": "code",
   "execution_count": 13,
   "metadata": {},
   "outputs": [
    {
     "data": {
      "image/png": "[encoded data removed]",
      "text/plain": [
       "<Figure size 432x288 with 1 Axes>"
      ]
     },
     "metadata": {},
     "output_type": "display_data"
    }
   ],
   "source": [
    "X = np.array(df['Age'])\n",
    "Y = np.array(df['Potential'])\n",
    "ax = plt.axes()\n",
    "fig = plt.scatter(X,Y, c='m',edgecolors='b')\n",
    "plt.rcParams[\"figure.figsize\"] = (10,6)\n",
    "ax.tick_params('y',colors='r',length=6,labelsize='small')\n",
    "plt.ylabel(\"Player Potential.\",labelpad=20, fontsize=14)\n",
    "plt.yticks(np.arange(0, 60, step=5),rotation=20)\n",
    "plt.xlabel(\"Age of the Players.\",fontsize=14)\n",
    "plt.title('Relationship between Age and player Potential.',fontweight='bold',fontsize=16)\n",
    "plt.show()"
   ]
  },
  {
   "cell_type": "markdown",
   "metadata": {},
   "source": [
    "* **The Graph above shows that Age and Potential do not have a relationship, thus the graph shows that Potential is independent of Age.**\n",
    "----------\n",
    "**Value and Potential.**"
   ]
  },
  {
   "cell_type": "code",
   "execution_count": 24,
   "metadata": {},
   "outputs": [],
   "source": [
    "# Set The players' value worth and the players' potential into numeric data cause at the moment the data\n",
    "#is in string format.\n",
    "value, potential = np.array(df['Value']),np.array(df['Potential'])\n",
    "new_cash = [] # Initialize empty list for Clean value amount strings.\n",
    "for c in value: #iterate over the value list\n",
    "    c = c.replace('€','') #remove the Euro symbol, by replacing it with nothing\n",
    "    if \"M\" in c:\n",
    "        new_cash.append(c.replace('M', '000000').replace('.',''))#replace the M, with actual million 6 zeros,\n",
    "        ##########################################################remove the full stop, by replacing it with\n",
    "        ##########################################################nothing\n",
    "    elif 'K' in c:    #For Thousands\n",
    "         new_cash.append(c.replace('K', \"000\")) #replace the 'K' with actual with zeros\n",
    "    else:\n",
    "         new_cash.append(c) #every other value without the 'K' or 'M' are okay \n",
    "\n",
    "# Change the data types into integers.\n",
    "cash = [int(i) for i in new_cash]  \n",
    "potential = [int(i) for i in potential]"
   ]
  },
  {
   "cell_type": "code",
   "execution_count": 26,
   "metadata": {},
   "outputs": [
    {
     "data": {
      "image/png": "[encoded data removed]",
      "text/plain": [
       "<Figure size 720x432 with 1 Axes>"
      ]
     },
     "metadata": {},
     "output_type": "display_data"
    }
   ],
   "source": [
    "# Plotting our Graph and the line of best fit\n",
    "plt.scatter(potential, cash,c=\"cyan\",edgecolors='blue',marker='s')#plot scatter plot with cyan square markers. \n",
    "plt.xlabel('Player Potential')#x-axis label\n",
    "plt.ylabel('value worth in millions.')#y-axis label.\n",
    "plt.title('Player value and potential.', fontsize=14,fontweight='bold')#Graph title with bold font.\n",
    "plt.show()#show graph."
   ]
  },
  {
   "cell_type": "markdown",
   "metadata": {},
   "source": [
    "* **Potential and Salary Observation.**\n",
    "-----------\n",
    "- From the graph it is obvious that The players potential and the players value have a relation, but there relation is **NOT Linear**, The relationship between the player's potential and the value is almost exponential.\n",
    "-------------\n",
    "- From the graph I also note that we can actually predict a Player's maximum value according to their Potential.\n",
    "-----------\n",
    "- It is pretty clear that both Player's potential and value is Directly propotional\n",
    "___________\n",
    "-----------"
   ]
  },
  {
   "cell_type": "code",
   "execution_count": 28,
   "metadata": {},
   "outputs": [],
   "source": [
    "wages = np.array(df['Wage'])\n",
    "salary = []\n",
    "for c in wages: #iterate over the wages list\n",
    "    c = c.replace('€','') #remove the Euro symbol, by replacing it with nothing\n",
    "    if \"M\" in c:\n",
    "        salary.append(c.replace('M', '000000').replace('.',''))#replace the M, with actual million 6 zeros,\n",
    "        ##########################################################remove the full stop, by replacing it with\n",
    "        ##########################################################nothing\n",
    "    elif 'K' in c:    #For Thousands\n",
    "        salary.append(c.replace('K', \"000\")) #replace the 'K' with actual with zeros\n",
    "    else:\n",
    "        salary.append(c)\n",
    "# change wage dtype to integers\n",
    "wages = [int(i) for i in salary]"
   ]
  },
  {
   "cell_type": "code",
   "execution_count": 29,
   "metadata": {
    "scrolled": false
   },
   "outputs": [
    {
     "data": {
      "image/png": "[encoded data removed]",
      "text/plain": [
       "<Figure size 720x432 with 1 Axes>"
      ]
     },
     "metadata": {},
     "output_type": "display_data"
    }
   ],
   "source": [
    "x, y = cash, wages #Initialize our X And Y data.\n",
    "x, y = pd.Series(x, name=\"Player Net Value(euros/million).\"), pd.Series(y, name=\"Player salary(euros).\")#Plot data and\n",
    "ax = sb.regplot(x=x, y=y, marker=\"*\", color='r')\n",
    "plt.title('Salary and Net value of different Players in the FIFA 18.', fontweight='bold',fontsize=14)\n",
    "plt.show()"
   ]
  },
  {
   "cell_type": "code",
   "execution_count": 43,
   "metadata": {},
   "outputs": [
    {
     "name": "stdout",
     "output_type": "stream",
     "text": [
      "Interquartile range of salary: 10000.0\n",
      "Range of salary: 565000\n",
      "salary mean and median respectively: 11546.97\n",
      "salary median: 4000.0\n",
      "salary minimum: 0\n",
      "salary maximum: 565000\n"
     ]
    }
   ],
   "source": [
    "# Judging from the cluster it is fair to measure the spread of the data. \n",
    "# in order to see the central tendency.\n",
    "# IQ of the Salary\n",
    "print(\"Interquartile range of salary:\",stats.iqr(y)) # Calculate the interquantile range for salary \n",
    "print(\"Range of salary:\",(np.max(y))-(np.min(y))) # Calculate the range of the salaries\n",
    "print(\"salary mean and median respectively:\",round(np.mean(y),2))\n",
    "print(\"salary median:\",np.median(y))\n",
    "print(\"salary minimum:\",np.min(y))\n",
    "print(\"salary maximum:\",np.max(y))"
   ]
  },
  {
   "cell_type": "markdown",
   "metadata": {
    "scrolled": false
   },
   "source": [
    "* **Players' Salary and Net worth observation.**\n",
    "---------------\n",
    "- There seems to be a relationship between salary and net worth of the FIFA 18 players, When the player has a high net value the Player's salary will be high.\n",
    "--------------\n",
    "------------\n",
    "- There is a major cluster in the bottom left of our graph, this cluster tells us that most of our players with a small Net value earn a very small amount of salary. To support this the median of the salary is \n",
    "--------------\n",
    "----------"
   ]
  },
  {
   "cell_type": "code",
   "execution_count": null,
   "metadata": {},
   "outputs": [],
   "source": []
  },
  {
   "cell_type": "code",
   "execution_count": null,
   "metadata": {},
   "outputs": [],
   "source": []
  }
 ],
 "metadata": {
  "kernelspec": {
   "display_name": "Python 3",
   "language": "python",
   "name": "python3"
  },
  "language_info": {
   "codemirror_mode": {
    "name": "ipython",
    "version": 3
   },
   "file_extension": ".py",
   "mimetype": "text/x-python",
   "name": "python",
   "nbconvert_exporter": "python",
   "pygments_lexer": "ipython3",
   "version": "3.6.5"
  }
 },
 "nbformat": 4,
 "nbformat_minor": 2
}
